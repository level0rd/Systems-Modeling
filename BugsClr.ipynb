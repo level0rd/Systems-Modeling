{
 "cells": [
  {
   "cell_type": "code",
   "execution_count": 61,
   "metadata": {},
   "outputs": [
    {
     "data": {
      "image/png": "[encoded data removed]",
      "text/plain": [
       "<Figure size 576x576 with 1 Axes>"
      ]
     },
     "metadata": {
      "needs_background": "light"
     },
     "output_type": "display_data"
    }
   ],
   "source": [
    "import numpy as np\n",
    "import math as m\n",
    "import matplotlib.pyplot as plt\n",
    "\n",
    "v = 0.1\n",
    "a = 10\n",
    "eps = 0.11\n",
    "dt = 0.9\n",
    "\n",
    "x1 = 0  \n",
    "y1 = 0\n",
    "x2 = 10\n",
    "y2 = 0\n",
    "x3 = 10\n",
    "y3 = 10\n",
    "x4 = 0\n",
    "y4 = 10\n",
    "total = -1 \n",
    "\n",
    "xl1, yl1, xl2, yl2, xl3, yl3, xl4, yl4 = [], [], [], [], [], [], [], []\n",
    "\n",
    "\n",
    "while x4!=5:\n",
    "    total += 1\n",
    "    xl1.append(x1)\n",
    "    yl1.append(y1)\n",
    "    xl2.append(x2)\n",
    "    yl2.append(y2)\n",
    "    xl3.append(x3)\n",
    "    yl3.append(y3)\n",
    "    xl4.append(x4)\n",
    "    yl4.append(y4)\n",
    "    \n",
    "    if m.pow(((a-y1-x1)**2+(x1-y1)**2),0.5)>=eps:\n",
    "        x1=x1+v*(a-y1-x1)/m.pow(((a-y1-x1)**2+(x1-y1)**2),0.5)\n",
    "        y1=y1+v*(x1-y1)/m.pow(((a-y1-x1)**2+(x1-y1)**2),0.5)\n",
    "    else:\n",
    "        x1=a/2\n",
    "        y1=a/2   \n",
    "        \n",
    "    x2 = a-y1\n",
    "    y2 = x1\n",
    "    x3 = a-x1\n",
    "    y3 = a-y1\n",
    "    x4 = y1\n",
    "    y4 = a-x1\n",
    "    \n",
    "    \n",
    "plt.figure(figsize=[8,8])  \n",
    "plt.title('Имитационная модель') \n",
    "plt.scatter(xl1, yl1, color='red', s=1)\n",
    "plt.scatter(xl2, yl2, color='darkblue', s=1)\n",
    "plt.scatter(xl3, yl3, color='black', s=1)\n",
    "plt.scatter(xl4, yl4, color='yellow', s=1)\n",
    "plt.show()  \n"
   ]
  },
  {
   "cell_type": "code",
   "execution_count": 82,
   "metadata": {},
   "outputs": [
    {
     "data": {
      "image/png": "[encoded data removed]",
      "text/plain": [
       "<Figure size 576x576 with 1 Axes>"
      ]
     },
     "metadata": {
      "needs_background": "light"
     },
     "output_type": "display_data"
    }
   ],
   "source": [
    "v = 0.1\n",
    "a = 10\n",
    "eps = 0.11\n",
    "dt = 0.9\n",
    "\n",
    "d = 10\n",
    "fx1 = 0.1\n",
    "fy1 =  0\n",
    "\n",
    "xl21, yl21, xl22, yl22, xl23, yl23, xl24, yl24 = [], [], [], [], [], [], [], [] \n",
    "x12, y12, x22, y22, x32, y32, x42, y42 = 0, 0, 0, 0, 0, 0, 0, 0\n",
    "kx1, ky1, kx2, ky2, kx3, ky3, kx4, ky4 = 0, 0, 0, 0, 0, 0, 0, 0\n",
    "total = -1\n",
    "\n",
    "while total<95:\n",
    "    total += 1\n",
    "    \n",
    "    d = m.pow(((a-yl1[total]-xl1[total])**2+(xl1[total]-yl1[total])**2),0.5)\n",
    "    fx1 = (v*(a-yl1[total]-xl1[total]))/(m.pow(((a-yl1[total]-xl1[total])**2+(xl1[total]-yl1[total])**2),0.5))\n",
    "    fy1 = (v*(xl1[total]-yl1[total]))/(m.pow(((a-yl1[total]-xl1[total])**2+(xl1[total]-yl1[total])**2),0.5))\n",
    "    \n",
    "    kx1 = fx1 * dt\n",
    "    ky1 = fy1 * dt\n",
    "    kx2 = ((v*(a-(yl1[total]+0.5*ky1)-(xl1[total]+0.5*kx1)))/d)*dt\n",
    "    ky2 = ((v*((xl1[total]+0.5*kx1)-(yl1[total]+0.5*ky1)))/d)*dt\n",
    "    kx3 = ((v*(a-(yl1[total]+0.5*ky2)-(xl1[total]+0.5*kx2)))/d)*dt\n",
    "    ky3 = ((v*((xl1[total]+0.5*kx2)-(yl1[total]+0.5*ky2)))/d)*dt\n",
    "    kx4 = ((v*(a-(yl1[total]+ky3)-(xl1[total]+kx3)))/d)*dt \n",
    "    ky4 = ((v*((xl1[total]+kx3)-(yl1[total]+ky3)))/d)*dt\n",
    "    \n",
    "    x12 = (xl1[total]+(kx1+kx2**2+kx3**2+kx4)/6)*dt\n",
    "    y12 = yl1[total]+(ky1+ky2**2+ky3**2+ky4)/6\n",
    "    x22 = a-y12\n",
    "    y22 = x12\n",
    "    x32 = a-x12\n",
    "    y32 = a-y12\n",
    "    x42 = y12\n",
    "    y42 = a-x12\n",
    "    \n",
    "    xl21.append(x12)\n",
    "    yl21.append(y12)\n",
    "    xl22.append(x22)\n",
    "    yl22.append(y22)\n",
    "    xl23.append(x32)\n",
    "    yl23.append(y32)\n",
    "    xl24.append(x42)\n",
    "    yl24.append(y42)\n",
    "\n",
    "plt.figure(figsize=[8,8])  \n",
    "plt.title('Математическая модель')\n",
    "plt.scatter(xl21, yl21, color='red', s=1)\n",
    "plt.scatter(xl22, yl22, color='darkblue', s=1)\n",
    "plt.scatter(xl23, yl23, color='black', s=1)\n",
    "plt.scatter(xl24, yl24, color='yellow', s=1)\n",
    "plt.show()          "
   ]
  },
  {
   "cell_type": "code",
   "execution_count": null,
   "metadata": {},
   "outputs": [],
   "source": []
  }
 ],
 "metadata": {
  "kernelspec": {
   "display_name": "Python 3",
   "language": "python",
   "name": "python3"
  },
  "language_info": {
   "codemirror_mode": {
    "name": "ipython",
    "version": 3
   },
   "file_extension": ".py",
   "mimetype": "text/x-python",
   "name": "python",
   "nbconvert_exporter": "python",
   "pygments_lexer": "ipython3",
   "version": "3.6.8"
  }
 },
 "nbformat": 4,
 "nbformat_minor": 2
}
