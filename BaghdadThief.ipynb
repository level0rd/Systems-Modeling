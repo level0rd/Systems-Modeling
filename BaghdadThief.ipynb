{
 "cells": [
  {
   "cell_type": "code",
   "execution_count": 32,
   "metadata": {},
   "outputs": [
    {
     "name": "stdout",
     "output_type": "stream",
     "text": [
      "Количество попыток: 4\n",
      "Продолжительность отсидки: 26.25\n"
     ]
    }
   ],
   "source": [
    "import random as rnd\n",
    "\n",
    "n_door = 0 ## номер двери\n",
    "R = 1 ## метка двери выбора 1\n",
    "t = 100 ## продолжительность отсидки\n",
    "count = 1 ## счетчик\n",
    "\n",
    "while count < 1000:\n",
    "    seed = rnd.random() ## Случайная величина от 0 до 1\n",
    "    if seed <= 1/3:\n",
    "        n_door = 1\n",
    "        R = 0\n",
    "        break\n",
    "    elif seed <= 2/3:\n",
    "        n_door = 2\n",
    "    else:\n",
    "        n_door = 3\n",
    "        \n",
    "    if n_door == 2:\n",
    "        t += 3*R\n",
    "        count += 1*R\n",
    "    elif n_door == 3:  \n",
    "        t += 1*R\n",
    "        count += 1*R\n",
    "        \n",
    "t = t/count\n",
    "print('Количество попыток:', count)  \n",
    "print('Продолжительность отсидки:', t)\n"
   ]
  },
  {
   "cell_type": "code",
   "execution_count": null,
   "metadata": {},
   "outputs": [],
   "source": []
  }
 ],
 "metadata": {
  "kernelspec": {
   "display_name": "Python 3",
   "language": "python",
   "name": "python3"
  },
  "language_info": {
   "codemirror_mode": {
    "name": "ipython",
    "version": 3
   },
   "file_extension": ".py",
   "mimetype": "text/x-python",
   "name": "python",
   "nbconvert_exporter": "python",
   "pygments_lexer": "ipython3",
   "version": "3.6.8"
  }
 },
 "nbformat": 4,
 "nbformat_minor": 2
}
